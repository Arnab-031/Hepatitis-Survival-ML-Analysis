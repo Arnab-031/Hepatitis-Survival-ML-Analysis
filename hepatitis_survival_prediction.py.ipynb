{
 "cells": [
  {
   "cell_type": "code",
   "execution_count": 63,
   "id": "62444287-0888-4744-9a19-2790cf81cf34",
   "metadata": {},
   "outputs": [],
   "source": [
    "import pandas as pd\n",
    "from sklearn.model_selection import train_test_split, RandomizedSearchCV\n",
    "from sklearn.preprocessing import StandardScaler, LabelEncoder\n",
    "from sklearn.svm import LinearSVC\n",
    "from sklearn.tree import DecisionTreeClassifier\n",
    "from sklearn.ensemble import RandomForestClassifier\n",
    "from sklearn.neighbors import KNeighborsClassifier\n",
    "from sklearn.neural_network import MLPClassifier\n",
    "from sklearn.metrics import accuracy_score, precision_score, recall_score, f1_score, classification_report\n",
    "from sklearn.ensemble import StackingClassifier\n",
    "import warnings\n",
    "warnings.filterwarnings(\"ignore\", category=FutureWarning, module=\"sklearn.svm._classes\")\n",
    "\n"
   ]
  },
  {
   "cell_type": "code",
   "execution_count": 65,
   "id": "9c13cde0-2170-407b-909c-d94a2ecca4d5",
   "metadata": {},
   "outputs": [],
   "source": [
    "# Load the datasets\n",
    "train_data = pd.read_csv('Hepatitis-Train.csv')\n",
    "test_data = pd.read_csv('Hepatitis-Test.csv')"
   ]
  },
  {
   "cell_type": "code",
   "execution_count": 67,
   "id": "ccc44bf9-1cf3-4ee4-a7bf-4108661e1a8a",
   "metadata": {},
   "outputs": [],
   "source": [
    "# Separate features and target\n",
    "X_train = train_data.drop('TARGET', axis=1)\n",
    "y_train = train_data['TARGET']\n",
    "X_test = test_data.drop('TARGET', axis=1)\n",
    "y_test = test_data['TARGET']"
   ]
  },
  {
   "cell_type": "code",
   "execution_count": 69,
   "id": "b6f0fab5-75ce-45e2-9d58-a5b8f5ba4710",
   "metadata": {},
   "outputs": [],
   "source": [
    "# Encode categorical variables\n",
    "categorical_columns = X_train.select_dtypes(include='object').columns\n",
    "encoder = LabelEncoder()\n",
    "for col in categorical_columns:\n",
    "    X_train[col] = encoder.fit_transform(X_train[col])\n",
    "    X_test[col] = encoder.transform(X_test[col])"
   ]
  },
  {
   "cell_type": "code",
   "execution_count": 71,
   "id": "b5b603c3-a504-40d3-a99e-0461fae4d813",
   "metadata": {},
   "outputs": [],
   "source": [
    "# Standardize numerical features\n",
    "scaler = StandardScaler()\n",
    "numerical_columns = X_train.select_dtypes(include=['float64', 'int64']).columns\n",
    "X_train[numerical_columns] = scaler.fit_transform(X_train[numerical_columns])\n",
    "X_test[numerical_columns] = scaler.transform(X_test[numerical_columns])"
   ]
  },
  {
   "cell_type": "code",
   "execution_count": 73,
   "id": "b133d905-d507-439b-b4e7-271dbaadfd01",
   "metadata": {},
   "outputs": [],
   "source": [
    "# Initialize classifiers\n",
    "classifiers = {\n",
    "    \"LinearSVC\": LinearSVC(max_iter=10000, random_state=42),\n",
    "    \"DecisionTreeClassifier\": DecisionTreeClassifier(random_state=42),\n",
    "    \"RandomForestClassifier\": RandomForestClassifier(random_state=42),\n",
    "    \"KNeighborsClassifier\": KNeighborsClassifier()}"
   ]
  },
  {
   "cell_type": "code",
   "execution_count": 75,
   "id": "b73afdb9-652d-405a-8c62-e56e95b28370",
   "metadata": {},
   "outputs": [],
   "source": [
    "#Train and evaluate default classifiers\n",
    "def evaluate_model(model, X_test, y_test):\n",
    "    y_pred = model.predict(X_test)\n",
    "    metrics = {\n",
    "        \"Accuracy\": accuracy_score(y_test, y_pred),\n",
    "        \"Precision\": precision_score(y_test, y_pred, average='weighted'),\n",
    "        \"Recall\": recall_score(y_test, y_pred, average='weighted'),\n",
    "        \"F1-Score\": f1_score(y_test, y_pred, average='weighted')\n",
    "    }\n",
    "    return metrics\n",
    "\n",
    "default_results = {}\n",
    "for name, clf in classifiers.items():\n",
    "    clf.fit(X_train, y_train)\n",
    "    default_results[name] = evaluate_model(clf, X_test, y_test)"
   ]
  },
  {
   "cell_type": "code",
   "execution_count": 77,
   "id": "7242c74a-d016-4f6d-9d2e-804ec3f357ee",
   "metadata": {},
   "outputs": [
    {
     "name": "stdout",
     "output_type": "stream",
     "text": [
      "Classifier: LinearSVC\n",
      "Accuracy: 72.73%\n",
      "Precision: 73.05%\n",
      "Recall: 72.73%\n",
      "F1-Score: 72.26%\n",
      "--------------------------------------------------\n",
      "Classifier: DecisionTreeClassifier\n",
      "Accuracy: 81.82%\n",
      "Precision: 81.82%\n",
      "Recall: 81.82%\n",
      "F1-Score: 81.82%\n",
      "--------------------------------------------------\n",
      "Classifier: RandomForestClassifier\n",
      "Accuracy: 72.73%\n",
      "Precision: 73.94%\n",
      "Recall: 72.73%\n",
      "F1-Score: 72.73%\n",
      "--------------------------------------------------\n",
      "Classifier: KNeighborsClassifier\n",
      "Accuracy: 72.73%\n",
      "Precision: 73.94%\n",
      "Recall: 72.73%\n",
      "F1-Score: 72.73%\n",
      "--------------------------------------------------\n"
     ]
    }
   ],
   "source": [
    "#  Record default classifier results\n",
    "for name, metrics in default_results.items():\n",
    "    print(f\"Classifier: {name}\")\n",
    "    print(f\"Accuracy: {metrics['Accuracy']:.2%}\")\n",
    "    print(f\"Precision: {metrics['Precision']:.2%}\")\n",
    "    print(f\"Recall: {metrics['Recall']:.2%}\")\n",
    "    print(f\"F1-Score: {metrics['F1-Score']:.2%}\")\n",
    "    print(\"-\" * 50)"
   ]
  },
  {
   "cell_type": "code",
   "execution_count": 79,
   "id": "d3b5c005-eb2e-45f0-b091-1e3d4aa22e43",
   "metadata": {},
   "outputs": [],
   "source": [
    "# Hyperparameter tuning for Random Forest\n",
    "param_dist = {\n",
    "    'n_estimators': [50, 100, 200],\n",
    "    'max_depth': [None, 10, 20, 30],\n",
    "    'min_samples_split': [2, 5, 10],\n",
    "    'min_samples_leaf': [1, 2, 4]\n",
    "}\n",
    "random_search = RandomizedSearchCV(RandomForestClassifier(random_state=42), param_distributions=param_dist,\n",
    "                                   n_iter=20, cv=3, scoring='accuracy', random_state=42, n_jobs=-1)\n",
    "random_search.fit(X_train, y_train)\n",
    "best_params = random_search.best_params_"
   ]
  },
  {
   "cell_type": "code",
   "execution_count": 80,
   "id": "9575aada-13d6-46da-b8ac-58c2825070eb",
   "metadata": {},
   "outputs": [],
   "source": [
    "# Train Random Forest with best parameters\n",
    "best_rf = RandomForestClassifier(**best_params, random_state=42)\n",
    "best_rf.fit(X_train, y_train)\n",
    "best_rf_metrics = evaluate_model(best_rf, X_test, y_test)"
   ]
  },
  {
   "cell_type": "code",
   "execution_count": 81,
   "id": "05f7b37e-ba3a-4894-86a1-0597418dd5aa",
   "metadata": {},
   "outputs": [
    {
     "name": "stdout",
     "output_type": "stream",
     "text": [
      "RandomForestClassifier (Tuned):\n",
      "Accuracy: 63.64%\n",
      "Precision: 66.88%\n",
      "Recall: 63.64%\n",
      "F1-Score: 63.03%\n",
      "--------------------------------------------------\n"
     ]
    }
   ],
   "source": [
    "#Record tuned Random Forest metrics\n",
    "print(\"RandomForestClassifier (Tuned):\")\n",
    "print(f\"Accuracy: {best_rf_metrics['Accuracy']:.2%}\")\n",
    "print(f\"Precision: {best_rf_metrics['Precision']:.2%}\")\n",
    "print(f\"Recall: {best_rf_metrics['Recall']:.2%}\")\n",
    "print(f\"F1-Score: {best_rf_metrics['F1-Score']:.2%}\")\n",
    "print(\"-\" * 50)"
   ]
  },
  {
   "cell_type": "code",
   "execution_count": 82,
   "id": "e78b2b68-9f44-43e8-b89d-4b00932e38bf",
   "metadata": {},
   "outputs": [
    {
     "name": "stdout",
     "output_type": "stream",
     "text": [
      "Comparison of RandomForestClassifier (Default) vs Tuned:\n",
      "Accuracy: Default = 72.73%, Tuned = 63.64%\n",
      "Improvement: -9.09%\n",
      "Precision: Default = 73.94%, Tuned = 66.88%\n",
      "Improvement: -7.06%\n",
      "Recall: Default = 72.73%, Tuned = 63.64%\n",
      "Improvement: -9.09%\n",
      "F1-Score: Default = 72.73%, Tuned = 63.03%\n",
      "Improvement: -9.70%\n",
      "--------------------------------------------------\n"
     ]
    }
   ],
   "source": [
    "# Compare default and tuned results\n",
    "print(\"Comparison of RandomForestClassifier (Default) vs Tuned:\")\n",
    "default_rf_metrics = default_results['RandomForestClassifier']\n",
    "for metric in [\"Accuracy\", \"Precision\", \"Recall\", \"F1-Score\"]:\n",
    "    print(f\"{metric}: Default = {default_rf_metrics[metric]:.2%}, Tuned = {best_rf_metrics[metric]:.2%}\")\n",
    "    print(f\"Improvement: {best_rf_metrics[metric] - default_rf_metrics[metric]:.2%}\")\n",
    "print(\"-\" * 50)"
   ]
  },
  {
   "cell_type": "code",
   "execution_count": 87,
   "id": "e75e743f-dec8-4636-88af-2f9e7307d7ee",
   "metadata": {},
   "outputs": [],
   "source": [
    "# Identify top features\n",
    "top_features = pd.Series(best_rf.feature_importances_, index=X_train.columns).sort_values(ascending=False).head(5)\n",
    "\n",
    "# Step 8: Ensemble predictions (stacking)\n",
    "stacking_classifier = StackingClassifier(\n",
    "    estimators=[\n",
    "        ('svc', classifiers['LinearSVC']),\n",
    "        ('tree', classifiers['DecisionTreeClassifier']),\n",
    "        ('rf', classifiers['RandomForestClassifier']),\n",
    "        ('knn', classifiers['KNeighborsClassifier'])\n",
    "    ],\n",
    "    final_estimator=MLPClassifier(random_state=42, max_iter=1000)\n",
    ")\n",
    "stacking_classifier.fit(X_train, y_train)\n",
    "stacking_metrics = evaluate_model(stacking_classifier, X_test, y_test)"
   ]
  },
  {
   "cell_type": "code",
   "execution_count": 89,
   "id": "30f9c589-7b66-4c8c-8890-ef15f9bf88e7",
   "metadata": {},
   "outputs": [],
   "source": [
    "# Combine all results into a Word-compatible table\n",
    "final_results = {\n",
    "    \"Classifier\": [\n",
    "        \"LinearSVC\", \"DecisionTreeClassifier\", \"RandomForestClassifier (Default)\",\n",
    "        \"RandomForestClassifier (Tuned)\", \"StackingClassifier\"\n",
    "    ],\n",
    "    \"Accuracy\": [\n",
    "        default_results['LinearSVC']['Accuracy'],\n",
    "        default_results['DecisionTreeClassifier']['Accuracy'],\n",
    "        default_results['RandomForestClassifier']['Accuracy'],\n",
    "        best_rf_metrics['Accuracy'],\n",
    "        stacking_metrics['Accuracy']\n",
    "    ],\n",
    "    \"Precision\": [\n",
    "        default_results['LinearSVC']['Precision'],\n",
    "        default_results['DecisionTreeClassifier']['Precision'],\n",
    "        default_results['RandomForestClassifier']['Precision'],\n",
    "        best_rf_metrics['Precision'],\n",
    "        stacking_metrics['Precision']\n",
    "    ],\n",
    "    \"Recall\": [\n",
    "        default_results['LinearSVC']['Recall'],\n",
    "        default_results['DecisionTreeClassifier']['Recall'],\n",
    "        default_results['RandomForestClassifier']['Recall'],\n",
    "        best_rf_metrics['Recall'],\n",
    "        stacking_metrics['Recall']\n",
    "    ],\n",
    "    \"F1-Score\": [\n",
    "        default_results['LinearSVC']['F1-Score'],\n",
    "        default_results['DecisionTreeClassifier']['F1-Score'],\n",
    "        default_results['RandomForestClassifier']['F1-Score'],\n",
    "        best_rf_metrics['F1-Score'],\n",
    "        stacking_metrics['F1-Score']\n",
    "    ]\n",
    "}\n",
    "results_df = pd.DataFrame(final_results)\n",
    "results_df.to_csv('Classification_Results.csv', index=False)"
   ]
  },
  {
   "cell_type": "code",
   "execution_count": 91,
   "id": "63cf780c-aa16-435b-837d-d963bedb816b",
   "metadata": {},
   "outputs": [
    {
     "data": {
      "text/plain": [
       "(                         Classifier  Accuracy  Precision    Recall  F1-Score\n",
       " 0                         LinearSVC  0.727273   0.730519  0.727273  0.722611\n",
       " 1            DecisionTreeClassifier  0.818182   0.818182  0.818182  0.818182\n",
       " 2  RandomForestClassifier (Default)  0.727273   0.739394  0.727273  0.727273\n",
       " 3    RandomForestClassifier (Tuned)  0.636364   0.668831  0.636364  0.630303\n",
       " 4                StackingClassifier  0.909091   0.924242  0.909091  0.909091,\n",
       " Albumin      0.216566\n",
       " Bilirubin    0.165291\n",
       " PROTIME      0.133971\n",
       " Ascites      0.088482\n",
       " Varices      0.074124\n",
       " dtype: float64)"
      ]
     },
     "execution_count": 91,
     "metadata": {},
     "output_type": "execute_result"
    }
   ],
   "source": [
    "# Save top features\n",
    "top_features.to_csv('Top_Features.csv', header=True)\n",
    "\n",
    "results_df, top_features"
   ]
  }
 ],
 "metadata": {
  "kernelspec": {
   "display_name": "Python 3 (ipykernel)",
   "language": "python",
   "name": "python3"
  },
  "language_info": {
   "codemirror_mode": {
    "name": "ipython",
    "version": 3
   },
   "file_extension": ".py",
   "mimetype": "text/x-python",
   "name": "python",
   "nbconvert_exporter": "python",
   "pygments_lexer": "ipython3",
   "version": "3.12.4"
  }
 },
 "nbformat": 4,
 "nbformat_minor": 5
}
